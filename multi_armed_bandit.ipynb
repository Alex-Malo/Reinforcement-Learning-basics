{
 "cells": [
  {
   "cell_type": "markdown",
   "id": "86650276",
   "metadata": {},
   "source": [
    "# Bandits"
   ]
  },
  {
   "cell_type": "markdown",
   "id": "1dabd6d1",
   "metadata": {},
   "source": [
    "The goal of this problem set is to investigate the behaviour of a multi-armed bandit algorithm in a simple multi-\n",
    "armed bandit problem."
   ]
  },
  {
   "cell_type": "markdown",
   "id": "f842ff9e",
   "metadata": {},
   "source": [
    "# Multi-Armed Bandits\n",
    "\n",
    "## Action Set  \n",
    "The set of actions is  \n",
    "$$\n",
    "A = \\{1,2,3,4,5\\}\n",
    "$$\n",
    "\n",
    "## Environment  \n",
    "Each action $a \\in A$ yields a reward $R_t$ drawn from a Bernoulli distribution $\\mathrm{Ber}(p_a)$. In other words:\n",
    "\n",
    "- If $A_t = a$, then  \n",
    "  $$\n",
    "  R_t =\n",
    "  \\begin{cases}\n",
    "    1 & \\text{with probability } p_a \\\\\n",
    "    0 & \\text{with probability } 1 - p_a\n",
    "  \\end{cases}\n",
    "  $$\n",
    "- The true means are:  \n",
    "  $$\n",
    "  p_1 = 0.8,\\quad p_2 = 0.6,\\quad p_3 = 0.5,\\quad p_4 = 0.4,\\quad p_5 = 0.2\n",
    "  $$\n",
    "\n",
    "## Regret  \n",
    "The expected cumulative regret after $T$ rounds is:\n",
    "$$\n",
    "\\mathrm{Regret}_T = \\mathbb{E}\\left[\\sum_{t=1}^T \\left(p_1 - p_{A_t}\\right)\\right]\n",
    "$$\n",
    "\n",
    "## UCB($\\delta$) Algorithm\n",
    "\n",
    "1. **Counters**  \n",
    "   $$\n",
    "   N_t(a) = \\sum_{s=1}^t \\mathbf{1}\\{A_s = a\\}\n",
    "   $$  \n",
    "   Number of times arm $a$ has been played by round $t$.\n",
    "\n",
    "2. **Empirical Mean**  \n",
    "   $$\n",
    "   \\hat{r}_t(a) = \\frac{1}{N_t(a)} \\sum_{s=1}^t \\mathbf{1}\\{A_s = a\\} R_s\n",
    "   $$\n",
    "\n",
    "3. **Upper Confidence Bound**  \n",
    "   $$\n",
    "   \\mathrm{UCB}_a(t, \\delta) =\n",
    "   \\begin{cases}\n",
    "     \\infty & \\text{if } N_t(a) = 0 \\\\\n",
    "     \\hat{r}_t(a) + \\sqrt{\\frac{\\log(1/\\delta)}{2N_t(a)}} & \\text{otherwise}\n",
    "   \\end{cases}\n",
    "   $$\n",
    "\n"
   ]
  },
  {
   "cell_type": "markdown",
   "id": "a2f208b7",
   "metadata": {},
   "source": [
    "### Imports"
   ]
  },
  {
   "cell_type": "code",
   "execution_count": 2,
   "id": "9f842656",
   "metadata": {},
   "outputs": [],
   "source": [
    "import numpy as np\n",
    "import pandas as pd\n",
    "from tqdm import tqdm\n",
    "import matplotlib.pyplot as plt"
   ]
  },
  {
   "cell_type": "markdown",
   "id": "571e44f1",
   "metadata": {},
   "source": [
    "## Setup"
   ]
  },
  {
   "cell_type": "markdown",
   "id": "5483e5ba",
   "metadata": {},
   "source": [
    "First we define a Bandit Arm class which we will use to sample each action's output. "
   ]
  },
  {
   "cell_type": "code",
   "execution_count": 3,
   "id": "4900a362",
   "metadata": {},
   "outputs": [],
   "source": [
    "class BernoulliArm:\n",
    "    def __init__(self, p):\n",
    "        self.p = p\n",
    "\n",
    "    def sample(self):\n",
    "        return np.random.binomial(1, self.p)"
   ]
  },
  {
   "cell_type": "markdown",
   "id": "55cf6750",
   "metadata": {},
   "source": [
    "Now we can simply define the function that will execute the UCB algorithm described above"
   ]
  },
  {
   "cell_type": "code",
   "execution_count": 4,
   "id": "4c1331c3",
   "metadata": {},
   "outputs": [],
   "source": [
    "def simulate_bandit(arms, T, delta, best_p, seed=None):\n",
    "    \"\"\"\n",
    "    Run UCB(δ) algorithm for T rounds on the given candidates.\n",
    "\n",
    "    Arguments:\n",
    "    - arms: list of BernoulliArm instances\n",
    "    - T: number of rounds\n",
    "    - delta: confidence level\n",
    "    - best_p: true value of the best arm (used for regret calc)\n",
    "\n",
    "    Returns:\n",
    "    - cum_regrets: list of cumulative regret values at each step\n",
    "    - counts: list of how many times each arm was pulled (each action was taken)\n",
    "    - estimated_means: final reward estimates for each arm\n",
    "    - final_ucbs: final UCB values for each arm\n",
    "    \"\"\"\n",
    "\n",
    "    if seed is not None:\n",
    "        np.random.seed(seed)\n",
    "    \n",
    "\n",
    "    n_arms = len(arms)\n",
    "    \n",
    "    # Initialize list with counts and reward sums for each arm\n",
    "    # we store them in this way to avoid large memory and computation cost for large T\n",
    "    counts   = np.zeros(n_arms, int)\n",
    "    rewards  = np.zeros(n_arms, float)\n",
    "\n",
    "    # Initialize regrets (including the first n_arms pulls)\n",
    "    regrets = [best_p - arms[idx].p for idx in range(n_arms)]    \n",
    "\n",
    "    # Initial pulls for each arm\n",
    "    for i in range(n_arms):\n",
    "        score = arms[i].sample()\n",
    "        counts[i] += 1\n",
    "        rewards[i] += score\n",
    "    \n",
    "\n",
    "\n",
    "    for t in range(n_arms, T):\n",
    "        ucb_a = [ (rewards[idx] / counts[idx]) + np.sqrt(np.log(1/delta) / (2*counts[idx]))  for idx in range(n_arms)]\n",
    "\n",
    "        i= np.argmax(ucb_a)\n",
    "        chosen = arms[i]\n",
    "        score = chosen.sample()\n",
    "\n",
    "        # Update counts, rewards and regrets\n",
    "        counts[i] += 1\n",
    "        rewards[i] += score\n",
    "        regrets.append(best_p - chosen.p)\n",
    "        \n",
    "\n",
    "    # Calculate cumulative regrets\n",
    "    cum_regrets = np.cumsum(regrets)\n",
    "\n",
    "    \n",
    "    final_ucbs = [(rewards[idx] / counts[idx]) + np.sqrt(np.log(1/delta) / (2*counts[idx])) for idx in range(n_arms)]\n",
    "    estimated_means = [rewards[idx] / counts[idx] for idx in range(n_arms)]\n",
    "\n",
    "    return cum_regrets, counts, estimated_means, final_ucbs   "
   ]
  },
  {
   "cell_type": "markdown",
   "id": "3e710d72",
   "metadata": {},
   "source": [
    "## Part 1: Plotting True Means vs. Final UCBs\n",
    "\n",
    "In this first experiment, we simulate the UCB($\\delta$) algorithm for $T = 10,\\!000$ rounds, using a confidence parameter of  \n",
    "$$\n",
    "\\delta = \\frac{1}{T^2}\n",
    "$$\n",
    "\n",
    "We apply the algorithm to the Bernoulli bandit setting described earlier, where each arm $a \\in \\{1, 2, 3, 4, 5\\}$ has a known true mean $p_a$.\n",
    "\n",
    "At the end of the simulation (after all $T$ rounds), we will:\n",
    "- Plot the **true means** $p_a$ for each arm,\n",
    "- Plot the corresponding **upper confidence bounds** $\\mathrm{UCB}_a(T, \\delta)$ computed by the algorithm.\n",
    "\n",
    "This will help us understand how well the algorithm estimates each arm’s reward, and whether the confidence bounds shrink toward the true means as expected.\n"
   ]
  },
  {
   "cell_type": "code",
   "execution_count": 7,
   "id": "65056a3e",
   "metadata": {},
   "outputs": [
    {
     "data": {
      "image/png": "[encoded data removed]",
      "text/plain": [
       "<Figure size 1000x600 with 1 Axes>"
      ]
     },
     "metadata": {},
     "output_type": "display_data"
    }
   ],
   "source": [
    "# Initialize arms with different probabilities\n",
    "arms = [BernoulliArm(p) for p in [0.8, 0.6, 0.5, 0.4, 0.2]]\n",
    "\n",
    "# Set parameters\n",
    "T = 1e4  # Total number of rounds\n",
    "delta = 1 / T**2\n",
    "\n",
    "# Call the simulation function\n",
    "cum_regrets, counts, estimated_means, final_ucbs = simulate_bandit(arms, int(T), delta, 0.8, seed=42)\n",
    "\n",
    "\n",
    "# Extract true means\n",
    "true_means = [arm.p for arm in arms]\n",
    "arm_labels = [f\"Arm {i+1}\" for i in range(len(arms))]\n",
    "\n",
    "# Create the plot\n",
    "x = np.arange(len(arms))  # positions for each arm\n",
    "width = 0.35  # width of each bar\n",
    "\n",
    "plt.figure(figsize=(10, 6))\n",
    "plt.bar(x - width/2, true_means, width, label='True Mean $p_a$')\n",
    "plt.bar(x + width/2, final_ucbs, width, label='UCB$_a$(T, δ)')\n",
    "\n",
    "# Add labels and title\n",
    "plt.xlabel(\"Arms\")\n",
    "plt.ylabel(\"Value\")\n",
    "plt.title(\"True Means vs. Final UCBs after T = 10,000 rounds\")\n",
    "plt.xticks(x, arm_labels)\n",
    "plt.ylim(0, 1.1)\n",
    "plt.legend()\n",
    "plt.grid(True, linestyle='--', alpha=0.6)\n",
    "\n",
    "plt.tight_layout()\n",
    "plt.show()\n",
    "\n"
   ]
  },
  {
   "cell_type": "markdown",
   "id": "a4a5e8b3",
   "metadata": {},
   "source": [
    "### Interpretation\n",
    "\n",
    "As we know, $ UCB_a $ value represents a balance between the arm's mean reward (observed so far) and an exploration term that favours arms that have been pulled few times. Together, these form an “upper bound” on how good the arm might be. The algorithm always picks the arm with the highest bound. Even if an arm looks bad now, if it hasn’t been tried much, its upper bound might still be high — so it gets a few more chances.\n",
    "\n",
    "By the end of a long run, the best arm has been pulled a lot so we can assume that $\\hat{r}_t(a) \\approx 0.8$. Looking at the table above we pbserve how its UCB value is just above 0.8, which indicates that its exploration bonus is small. Sub-optimal arms have lower empirical means, but they were pulled far fewer times, so their exploration bonus is comparatively large. This confidence ( $\\delta$) value is just the right fit as to not give too much weight to the exploration term, yet neither prematurely commit to a wrong arm. This means that the algorithm's logic is something like *keep sampling a sub-uptimal arm only until its upper confidence bound drops below that of the best arm*. \n",
    "\n",
    "\n",
    "Digging deeper into the UCB formula, we can understand why this is optimal. \n",
    "\n",
    "Recall that the UCB value for arm $a$ at time $t$ is: \n",
    "$$\n",
    "   \\mathrm{UCB}_a(t, \\delta) = \\hat{r}_t(a) + \\sqrt{\\frac{\\log(1/\\delta)}{2N_t(a)}}\n",
    "$$\n",
    "As we know,  **Hoeffding's Inequality** ensures that:\n",
    "$$ \n",
    "\\mathrm{UCB}_a(t, \\delta) \\geq p_a\n",
    "$$\n",
    "\n",
    "In other words, the UCB is a valid upper bound on the true mean reward $p_a$ with probability at least $ 1-\\delta$. \n",
    "\n",
    "If $\\mathrm{UCB}_a(t, \\delta) \\lt p_a$ , we run the risk of prematurely stop exploring arm $a$, despite it actually being good. By always having $\\mathrm{UCB}_a(t, \\delta) \\geq p_a$, we ensure that: \n",
    "- The best arm eventually stands out \n",
    "- Bad arms get discarded as their UCB's fall below the best arm's mean. "
   ]
  },
  {
   "cell_type": "markdown",
   "id": "4101eed6",
   "metadata": {},
   "source": [
    "## Part 2: Investigating the Effect of the Confidence Parameter $\\delta$\n",
    "\n",
    "We already know that the UCB(δ) algorithm is guaranteed to achieve low regret when the confidence parameter is set to  \n",
    "$\n",
    "\\delta = \\frac{1}{T^2}.\n",
    "$\n",
    "\n",
    "In this section, we explore how changing the value of δ affects the performance of the algorithm.\n",
    "\n",
    "To do this, we’ll run the UCB(δ) algorithm for $T = 10,\\!000$ rounds using **three different values** of δ:\n",
    "- $\\delta = \\frac{1}{T^2}$  (the theoretically recommended setting),\n",
    "- $\\delta = \\frac{1}{\\sqrt{T}}$  (less cautious — smaller exploration bonus),\n",
    "- $\\delta = \\frac{1}{T^{1/20}}$  (very aggressive — minimal exploration bonus).\n",
    "\n",
    "For each δ:\n",
    "1. We simulate the UCB algorithm **100 times**,\n",
    "2. At every time step $t$, we compute the **cumulative regret**:\n",
    "   $$\n",
    "   \\text{Regret}_t = \\sum_{s=1}^t (p_1 - p_{A_s}),\n",
    "   $$\n",
    "   where $p_1 = 0.8$ is the true mean of the best arm,\n",
    "3. We compute the **average cumulative regret** across the 100 runs,\n",
    "4. Finally, we plot all three curves together to compare the impact of different δ values.\n",
    "\n",
    "This experiment will help us visualize how sensitive the algorithm is to the choice of δ and understand the tradeoff between **exploration** and **regret minimization**.\n"
   ]
  }
 ],
 "metadata": {
  "kernelspec": {
   "display_name": "base",
   "language": "python",
   "name": "python3"
  },
  "language_info": {
   "codemirror_mode": {
    "name": "ipython",
    "version": 3
   },
   "file_extension": ".py",
   "mimetype": "text/x-python",
   "name": "python",
   "nbconvert_exporter": "python",
   "pygments_lexer": "ipython3",
   "version": "3.12.3"
  }
 },
 "nbformat": 4,
 "nbformat_minor": 5
}
